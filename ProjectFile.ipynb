{
 "cells": [
  {
   "cell_type": "code",
   "execution_count": 1,
   "metadata": {},
   "outputs": [
    {
     "name": "stderr",
     "output_type": "stream",
     "text": [
      "Using TensorFlow backend.\n"
     ]
    }
   ],
   "source": [
    "import pandas as pd\n",
    "import numpy as np\n",
    "import scipy as sp\n",
    "import stat\n",
    "import keras\n",
    "import tensorflow as tf\n",
    "import matplotlib.pyplot as mp\n",
    "%matplotlib inline"
   ]
  },
  {
   "cell_type": "code",
   "execution_count": 4,
   "metadata": {},
   "outputs": [],
   "source": [
    "import cv2\n",
    "import csv"
   ]
  },
  {
   "cell_type": "code",
   "execution_count": 3,
   "metadata": {},
   "outputs": [],
   "source": [
    "import xml.etree.ElementTree as ET"
   ]
  },
  {
   "cell_type": "code",
   "execution_count": 5,
   "metadata": {},
   "outputs": [
    {
     "data": {
      "text/plain": [
       "<xml.etree.ElementTree.ElementTree at 0xb2fb1b3c8>"
      ]
     },
     "execution_count": 5,
     "metadata": {},
     "output_type": "execute_result"
    }
   ],
   "source": [
    "tree= ET.parse('train.xml')\n",
    "tree"
   ]
  },
  {
   "cell_type": "code",
   "execution_count": 18,
   "metadata": {},
   "outputs": [],
   "source": [
    "root = tree.getroot()"
   ]
  },
  {
   "cell_type": "code",
   "execution_count": 21,
   "metadata": {},
   "outputs": [
    {
     "data": {
      "text/plain": [
       "'tagset'"
      ]
     },
     "execution_count": 21,
     "metadata": {},
     "output_type": "execute_result"
    }
   ],
   "source": [
    "root.tag"
   ]
  },
  {
   "cell_type": "code",
   "execution_count": 22,
   "metadata": {},
   "outputs": [
    {
     "data": {
      "text/plain": [
       "{}"
      ]
     },
     "execution_count": 22,
     "metadata": {},
     "output_type": "execute_result"
    }
   ],
   "source": [
    "root.attrib"
   ]
  },
  {
   "cell_type": "code",
   "execution_count": 27,
   "metadata": {},
   "outputs": [
    {
     "name": "stdout",
     "output_type": "stream",
     "text": [
      "image\n",
      "image\n",
      "image\n",
      "image\n",
      "image\n",
      "image\n",
      "image\n",
      "image\n",
      "image\n",
      "image\n",
      "image\n",
      "image\n",
      "image\n",
      "image\n",
      "image\n",
      "image\n",
      "image\n",
      "image\n",
      "image\n",
      "image\n",
      "image\n",
      "image\n",
      "image\n",
      "image\n",
      "image\n",
      "image\n",
      "image\n",
      "image\n",
      "image\n",
      "image\n",
      "image\n",
      "image\n",
      "image\n",
      "image\n",
      "image\n",
      "image\n",
      "image\n",
      "image\n",
      "image\n",
      "image\n",
      "image\n",
      "image\n",
      "image\n",
      "image\n",
      "image\n",
      "image\n",
      "image\n",
      "image\n",
      "image\n",
      "image\n",
      "image\n",
      "image\n",
      "image\n",
      "image\n",
      "image\n",
      "image\n",
      "image\n",
      "image\n",
      "image\n",
      "image\n",
      "image\n",
      "image\n",
      "image\n",
      "image\n",
      "image\n",
      "image\n",
      "image\n",
      "image\n",
      "image\n",
      "image\n",
      "image\n",
      "image\n",
      "image\n",
      "image\n",
      "image\n",
      "image\n",
      "image\n",
      "image\n",
      "image\n",
      "image\n",
      "image\n",
      "image\n",
      "image\n",
      "image\n",
      "image\n",
      "image\n",
      "image\n",
      "image\n",
      "image\n",
      "image\n",
      "image\n",
      "image\n",
      "image\n",
      "image\n",
      "image\n",
      "image\n",
      "image\n",
      "image\n",
      "image\n",
      "image\n"
     ]
    }
   ],
   "source": [
    "for child in root:\n",
    "    print( child.tag)"
   ]
  },
  {
   "cell_type": "code",
   "execution_count": 28,
   "metadata": {},
   "outputs": [
    {
     "data": {
      "text/plain": [
       "'341 Southwest 10th Avenue Portland OR'"
      ]
     },
     "execution_count": 28,
     "metadata": {},
     "output_type": "execute_result"
    }
   ],
   "source": [
    "root[0][1].text"
   ]
  },
  {
   "cell_type": "code",
   "execution_count": null,
   "metadata": {},
   "outputs": [],
   "source": []
  }
 ],
 "metadata": {
  "kernelspec": {
   "display_name": "Python 3",
   "language": "python",
   "name": "python3"
  },
  "language_info": {
   "codemirror_mode": {
    "name": "ipython",
    "version": 3
   },
   "file_extension": ".py",
   "mimetype": "text/x-python",
   "name": "python",
   "nbconvert_exporter": "python",
   "pygments_lexer": "ipython3",
   "version": "3.6.8"
  }
 },
 "nbformat": 4,
 "nbformat_minor": 2
}
